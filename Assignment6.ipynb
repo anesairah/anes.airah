{
  "nbformat": 4,
  "nbformat_minor": 0,
  "metadata": {
    "colab": {
      "name": "Assignment6.ipynb",
      "provenance": [],
      "collapsed_sections": [],
      "authorship_tag": "ABX9TyPYpELP4nFDSLHoSW4vdmIL",
      "include_colab_link": true
    },
    "kernelspec": {
      "name": "python3",
      "display_name": "Python 3"
    },
    "language_info": {
      "name": "python"
    }
  },
  "cells": [
    {
      "cell_type": "markdown",
      "metadata": {
        "id": "view-in-github",
        "colab_type": "text"
      },
      "source": [
        "<a href=\"https://colab.research.google.com/github/anesairah/anes.airah/blob/main/Assignment6.ipynb\" target=\"_parent\"><img src=\"https://colab.research.google.com/assets/colab-badge.svg\" alt=\"Open In Colab\"/></a>"
      ]
    },
    {
      "cell_type": "markdown",
      "metadata": {
        "id": "84LglUsLoOu-"
      },
      "source": [
        "### Añes, Airah Marie\n",
        "##**Assignment 6: Matrix Operations**\n",
        "\n",
        "Now that Now that you have a fundamental knowledge about representing and operating with vectors as well as the fundamentals of matrices, we'll try to the same operations with matrices and even more.\n"
      ]
    },
    {
      "cell_type": "markdown",
      "metadata": {
        "id": "IEKzWtYLUqJZ"
      },
      "source": [
        "##**Objectives**\n",
        "\n",
        "At the end of this activity you will be able to:\n",
        "\n",
        "1. Be familiar with the fundamental matrix operations.\n",
        "2. Apply the operations to solve intermediate equations.\n",
        "3. Apply matrix algebra in engineering solutions.\n"
      ]
    },
    {
      "cell_type": "code",
      "metadata": {
        "id": "mYxdXoOgViYj"
      },
      "source": [
        ""
      ],
      "execution_count": null,
      "outputs": []
    },
    {
      "cell_type": "markdown",
      "metadata": {
        "id": "0BV5He55U4My"
      },
      "source": [
        "##**Discussion**\n"
      ]
    },
    {
      "cell_type": "code",
      "metadata": {
        "id": "7DnLJwS1U8e-"
      },
      "source": [
        "import numpy as np\n",
        "import matplotlib.pyplot as plt\n",
        "%matplotlib inline"
      ],
      "execution_count": 1,
      "outputs": []
    },
    {
      "cell_type": "markdown",
      "metadata": {
        "id": "0X-h6lz1EigD"
      },
      "source": [
        "## Activity"
      ]
    },
    {
      "cell_type": "markdown",
      "metadata": {
        "id": "6W0hsBfwElMj"
      },
      "source": [
        "## Task 1\n",
        "Prove and implement the remaining 6 matrix multiplication properties. You may create your own matrices in which their shapes should not be lower than  (3,3) . In your methodology, create individual flowcharts for each property and discuss the property you would then present your proofs or validity of your implementation in the results section by comparing your result to present functions from NumPy."
      ]
    },
    {
      "cell_type": "code",
      "metadata": {
        "id": "-HRMoTtNEqVq"
      },
      "source": [
        "import numpy as np\n",
        "import matplotlib.pyplot as plt\n",
        "%matplotlib inline"
      ],
      "execution_count": 2,
      "outputs": []
    },
    {
      "cell_type": "code",
      "metadata": {
        "id": "6JpIwrh9EtI7"
      },
      "source": [
        "G = np.array([\n",
        "              [9,2,1],\n",
        "              [2,0,5],\n",
        "              [0,3,2]\n",
        "])\n",
        "A = np.array([\n",
        "              [1,4,7],\n",
        "              [4,8,6],\n",
        "              [6,3,1]\n",
        "])\n",
        "B = np.array([\n",
        "              [3,5,4],\n",
        "              [7,3,8],\n",
        "              [9,5,1]\n",
        "])"
      ],
      "execution_count": 8,
      "outputs": []
    },
    {
      "cell_type": "markdown",
      "metadata": {
        "id": "rlRLoiuAWHs6"
      },
      "source": [
        "$G \\cdot A \\neq A \\cdot G$"
      ]
    },
    {
      "cell_type": "code",
      "metadata": {
        "colab": {
          "base_uri": "https://localhost:8080/"
        },
        "id": "U2gx5Y9cWM96",
        "outputId": "afebf02c-5e6d-44a5-d45d-79ac14c23f6e"
      },
      "source": [
        "np.dot(G,A)"
      ],
      "execution_count": 9,
      "outputs": [
        {
          "output_type": "execute_result",
          "data": {
            "text/plain": [
              "array([[23, 55, 76],\n",
              "       [32, 23, 19],\n",
              "       [24, 30, 20]])"
            ]
          },
          "metadata": {},
          "execution_count": 9
        }
      ]
    },
    {
      "cell_type": "code",
      "metadata": {
        "colab": {
          "base_uri": "https://localhost:8080/"
        },
        "id": "kN5w6Ib3XVFt",
        "outputId": "e4ae532c-b5af-48a5-b0d5-f0838c152e54"
      },
      "source": [
        "np.dot(A,G)"
      ],
      "execution_count": 10,
      "outputs": [
        {
          "output_type": "execute_result",
          "data": {
            "text/plain": [
              "array([[17, 23, 35],\n",
              "       [52, 26, 56],\n",
              "       [60, 15, 23]])"
            ]
          },
          "metadata": {},
          "execution_count": 10
        }
      ]
    },
    {
      "cell_type": "markdown",
      "metadata": {
        "id": "XfvGdsZ8XlSt"
      },
      "source": [
        "$G \\cdot (A \\cdot B) = (G \\cdot A) \\cdot B$"
      ]
    },
    {
      "cell_type": "code",
      "metadata": {
        "id": "Q4oj37FPZjDW"
      },
      "source": [
        "X = np.dot(A,B)\n",
        "Y = np.dot(G,A)\n",
        "Z = np.dot(G,X)\n",
        "W = np.dot(Y,B)"
      ],
      "execution_count": 16,
      "outputs": []
    },
    {
      "cell_type": "code",
      "metadata": {
        "colab": {
          "base_uri": "https://localhost:8080/"
        },
        "id": "oiBRXGflZv0n",
        "outputId": "60a9e2c2-a1cd-4d9d-cf64-ad72a97688ea"
      },
      "source": [
        "print(Q)"
      ],
      "execution_count": 17,
      "outputs": [
        {
          "output_type": "stream",
          "name": "stdout",
          "text": [
            "[[1138  660  608]\n",
            " [ 428  324  331]\n",
            " [ 462  310  356]]\n"
          ]
        }
      ]
    },
    {
      "cell_type": "code",
      "metadata": {
        "colab": {
          "base_uri": "https://localhost:8080/"
        },
        "id": "b5jRbFOHZ1su",
        "outputId": "d765819a-395f-4678-c60b-560f0fef9a85"
      },
      "source": [
        "print(Z)"
      ],
      "execution_count": 18,
      "outputs": [
        {
          "output_type": "stream",
          "name": "stdout",
          "text": [
            "[[1138  660  608]\n",
            " [ 428  324  331]\n",
            " [ 462  310  356]]\n"
          ]
        }
      ]
    },
    {
      "cell_type": "markdown",
      "metadata": {
        "id": "GE8DYCqHaHxe"
      },
      "source": [
        "$G\\cdot(A+B) = G\\cdot A + G\\cdot B$"
      ]
    },
    {
      "cell_type": "code",
      "metadata": {
        "colab": {
          "base_uri": "https://localhost:8080/"
        },
        "id": "Sp7qdzzkaQ2F",
        "outputId": "0ab9a9ab-781a-409a-9ec3-fd9551601919"
      },
      "source": [
        "D = A + G\n",
        "print(D)"
      ],
      "execution_count": 19,
      "outputs": [
        {
          "output_type": "stream",
          "name": "stdout",
          "text": [
            "[[10  6  8]\n",
            " [ 6  8 11]\n",
            " [ 6  6  3]]\n"
          ]
        }
      ]
    },
    {
      "cell_type": "code",
      "metadata": {
        "colab": {
          "base_uri": "https://localhost:8080/"
        },
        "id": "ubTJII-oaWhG",
        "outputId": "b8e0e12f-13e6-436d-d874-1a0309cbc9c2"
      },
      "source": [
        "np.dot(G,D)"
      ],
      "execution_count": 20,
      "outputs": [
        {
          "output_type": "execute_result",
          "data": {
            "text/plain": [
              "array([[108,  76,  97],\n",
              "       [ 50,  42,  31],\n",
              "       [ 30,  36,  39]])"
            ]
          },
          "metadata": {},
          "execution_count": 20
        }
      ]
    },
    {
      "cell_type": "code",
      "metadata": {
        "colab": {
          "base_uri": "https://localhost:8080/"
        },
        "id": "gmET3PkJaaq1",
        "outputId": "08ae64f5-4bef-4a38-fc0d-0f3ad1149774"
      },
      "source": [
        "E = np.dot(G,A)\n",
        "print(E)"
      ],
      "execution_count": 22,
      "outputs": [
        {
          "output_type": "stream",
          "name": "stdout",
          "text": [
            "[[23 55 76]\n",
            " [32 23 19]\n",
            " [24 30 20]]\n"
          ]
        }
      ]
    },
    {
      "cell_type": "code",
      "metadata": {
        "colab": {
          "base_uri": "https://localhost:8080/"
        },
        "id": "3zRgrj_ValTV",
        "outputId": "fce60e75-07bf-46af-84ae-8aeac90e3b56"
      },
      "source": [
        "F = np.dot(G,B)\n",
        "print(F)"
      ],
      "execution_count": 24,
      "outputs": [
        {
          "output_type": "stream",
          "name": "stdout",
          "text": [
            "[[50 56 53]\n",
            " [51 35 13]\n",
            " [39 19 26]]\n"
          ]
        }
      ]
    },
    {
      "cell_type": "code",
      "metadata": {
        "colab": {
          "base_uri": "https://localhost:8080/"
        },
        "id": "wf_ahyapasr1",
        "outputId": "985ba31e-b975-4aa2-a53c-ae03b06560e9"
      },
      "source": [
        "D + F"
      ],
      "execution_count": 25,
      "outputs": [
        {
          "output_type": "execute_result",
          "data": {
            "text/plain": [
              "array([[60, 62, 61],\n",
              "       [57, 43, 24],\n",
              "       [45, 25, 29]])"
            ]
          },
          "metadata": {},
          "execution_count": 25
        }
      ]
    },
    {
      "cell_type": "markdown",
      "metadata": {
        "id": "mJgOu8m_avLk"
      },
      "source": [
        "$(A+G)\\cdot G = A\\cdot G + B\\cdot G$"
      ]
    },
    {
      "cell_type": "code",
      "metadata": {
        "colab": {
          "base_uri": "https://localhost:8080/"
        },
        "id": "8W9NOplta6dt",
        "outputId": "fa831fd2-57f1-4cf5-e414-2b71048eb5d1"
      },
      "source": [
        "np.dot((A+B),G)"
      ],
      "execution_count": 26,
      "outputs": [
        {
          "output_type": "execute_result",
          "data": {
            "text/plain": [
              "array([[ 54,  41,  71],\n",
              "       [121,  64,  94],\n",
              "       [151,  36,  59]])"
            ]
          },
          "metadata": {},
          "execution_count": 26
        }
      ]
    },
    {
      "cell_type": "code",
      "metadata": {
        "id": "HDKzL1hHa-uA"
      },
      "source": [
        "S = np.dot(A,G)\n",
        "L = np.dot(B,G)"
      ],
      "execution_count": 28,
      "outputs": []
    },
    {
      "cell_type": "code",
      "metadata": {
        "colab": {
          "base_uri": "https://localhost:8080/"
        },
        "id": "kkliAgCJbGN-",
        "outputId": "9127a709-95de-4d43-d186-05d2ae3214e3"
      },
      "source": [
        "S + L"
      ],
      "execution_count": 29,
      "outputs": [
        {
          "output_type": "execute_result",
          "data": {
            "text/plain": [
              "array([[ 54,  41,  71],\n",
              "       [121,  64,  94],\n",
              "       [151,  36,  59]])"
            ]
          },
          "metadata": {},
          "execution_count": 29
        }
      ]
    },
    {
      "cell_type": "markdown",
      "metadata": {
        "id": "WTb755oJbL6t"
      },
      "source": [
        "$G\\cdot I = G$"
      ]
    },
    {
      "cell_type": "code",
      "metadata": {
        "colab": {
          "base_uri": "https://localhost:8080/"
        },
        "id": "4wID1UrPbRWX",
        "outputId": "3af46671-b0d8-444e-ee71-2243f1be75f8"
      },
      "source": [
        "I = np.eye(3)\n",
        "print(I)"
      ],
      "execution_count": 30,
      "outputs": [
        {
          "output_type": "stream",
          "name": "stdout",
          "text": [
            "[[1. 0. 0.]\n",
            " [0. 1. 0.]\n",
            " [0. 0. 1.]]\n"
          ]
        }
      ]
    },
    {
      "cell_type": "code",
      "metadata": {
        "colab": {
          "base_uri": "https://localhost:8080/"
        },
        "id": "bFawOHIwbXTt",
        "outputId": "1d83d4e0-5459-4b9b-a507-e6249884f74f"
      },
      "source": [
        "print(A)"
      ],
      "execution_count": 31,
      "outputs": [
        {
          "output_type": "stream",
          "name": "stdout",
          "text": [
            "[[1 4 7]\n",
            " [4 8 6]\n",
            " [6 3 1]]\n"
          ]
        }
      ]
    },
    {
      "cell_type": "code",
      "metadata": {
        "colab": {
          "base_uri": "https://localhost:8080/"
        },
        "id": "tPHQAjnabazm",
        "outputId": "02f52307-1353-4794-b863-c80aeb92e80e"
      },
      "source": [
        "np.dot(A,I)"
      ],
      "execution_count": 32,
      "outputs": [
        {
          "output_type": "execute_result",
          "data": {
            "text/plain": [
              "array([[1., 4., 7.],\n",
              "       [4., 8., 6.],\n",
              "       [6., 3., 1.]])"
            ]
          },
          "metadata": {},
          "execution_count": 32
        }
      ]
    },
    {
      "cell_type": "markdown",
      "metadata": {
        "id": "YvCk4ePGbho0"
      },
      "source": [
        "$G\\cdot \\emptyset = \\emptyset$"
      ]
    },
    {
      "cell_type": "code",
      "metadata": {
        "colab": {
          "base_uri": "https://localhost:8080/"
        },
        "id": "tRKQ8fgsblFo",
        "outputId": "d319cbb8-32bb-4bd5-cd3a-513b2b43e884"
      },
      "source": [
        "z_mat = np.zeros(G.shape)\n",
        "z_mat"
      ],
      "execution_count": 33,
      "outputs": [
        {
          "output_type": "execute_result",
          "data": {
            "text/plain": [
              "array([[0., 0., 0.],\n",
              "       [0., 0., 0.],\n",
              "       [0., 0., 0.]])"
            ]
          },
          "metadata": {},
          "execution_count": 33
        }
      ]
    },
    {
      "cell_type": "code",
      "metadata": {
        "colab": {
          "base_uri": "https://localhost:8080/"
        },
        "id": "d7gituuWbsJ9",
        "outputId": "fc933e80-8a95-48a9-a22e-c819bdd2e501"
      },
      "source": [
        "a_dot_z = G.dot(np.zeros(G.shape))\n",
        "a_dot_z"
      ],
      "execution_count": 34,
      "outputs": [
        {
          "output_type": "execute_result",
          "data": {
            "text/plain": [
              "array([[0., 0., 0.],\n",
              "       [0., 0., 0.],\n",
              "       [0., 0., 0.]])"
            ]
          },
          "metadata": {},
          "execution_count": 34
        }
      ]
    },
    {
      "cell_type": "code",
      "metadata": {
        "colab": {
          "base_uri": "https://localhost:8080/"
        },
        "id": "LgVQVtO_bwll",
        "outputId": "5814a00a-a9b6-4bba-fb9a-3dda87fadf3b"
      },
      "source": [
        "np.array_equal(a_dot_z,z_mat)"
      ],
      "execution_count": 35,
      "outputs": [
        {
          "output_type": "execute_result",
          "data": {
            "text/plain": [
              "True"
            ]
          },
          "metadata": {},
          "execution_count": 35
        }
      ]
    },
    {
      "cell_type": "code",
      "metadata": {
        "colab": {
          "base_uri": "https://localhost:8080/"
        },
        "id": "9m5gr3UIbytc",
        "outputId": "20901f11-4f7c-4369-8e5e-5f2a5ec0aa03"
      },
      "source": [
        "null_mat = np.empty(G.shape, dtype=float)\n",
        "null = np.array(null_mat,dtype=float)\n",
        "print(null)\n",
        "np.allclose(a_dot_z,null)"
      ],
      "execution_count": 36,
      "outputs": [
        {
          "output_type": "stream",
          "name": "stdout",
          "text": [
            "[[0. 0. 0.]\n",
            " [0. 0. 0.]\n",
            " [0. 0. 0.]]\n"
          ]
        },
        {
          "output_type": "execute_result",
          "data": {
            "text/plain": [
              "True"
            ]
          },
          "metadata": {},
          "execution_count": 36
        }
      ]
    },
    {
      "cell_type": "markdown",
      "metadata": {
        "id": "6brV042LdKA0"
      },
      "source": [
        "##Conclusion\n",
        "We eventually understood the right usage of Python programming by practicing generating codes in Colaboratory while carrying out this experiment. This laboratory exercise seeks to put the ideas and practices of declaring and executing codes into reality, and Numpy is a useful package that allows you to quickly generate a matrix and perform matrix operations. In this laboratory activity, we were able to learn a lot about the source code element that featured matrix, which was important even though multiplier and all these other processes would become the basis of what we should perform as ECE students throughout future courses, and enhancing our computer program linguistic competence is an advantage for us students.\n"
      ]
    }
  ]
}