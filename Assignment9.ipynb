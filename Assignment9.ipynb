{
  "nbformat": 4,
  "nbformat_minor": 0,
  "metadata": {
    "colab": {
      "name": "Assignment9.ipynb",
      "provenance": [],
      "collapsed_sections": [],
      "authorship_tag": "ABX9TyNBB9JuKBtRl3HVjfyc6FBz",
      "include_colab_link": true
    },
    "kernelspec": {
      "name": "python3",
      "display_name": "Python 3"
    },
    "language_info": {
      "name": "python"
    }
  },
  "cells": [
    {
      "cell_type": "markdown",
      "metadata": {
        "id": "view-in-github",
        "colab_type": "text"
      },
      "source": [
        "<a href=\"https://colab.research.google.com/github/anesairah/anes.airah/blob/main/Assignment9.ipynb\" target=\"_parent\"><img src=\"https://colab.research.google.com/assets/colab-badge.svg\" alt=\"Open In Colab\"/></a>"
      ]
    },
    {
      "cell_type": "markdown",
      "metadata": {
        "id": "84LglUsLoOu-"
      },
      "source": [
        "### Añes, Airah Marie\n",
        "##**Assignment 9**\n",
        "\n",
        "In this laboratory we will be discussing the basics of numerical and scientific programming by working with Vectors using NumPy and MatPlotLib."
      ]
    },
    {
      "cell_type": "markdown",
      "metadata": {
        "id": "IEKzWtYLUqJZ"
      },
      "source": [
        "##**Objectives**\n",
        "\n",
        "At the end of this activity you will be able to:\n",
        "\n",
        "Be familiar with the libraries in Python for numerical and scientific programming.\n",
        "\n",
        "Visualize vectors through Python programming.\n",
        "\n",
        "Perform simple vector operations through code.\n"
      ]
    },
    {
      "cell_type": "code",
      "metadata": {
        "id": "mYxdXoOgViYj"
      },
      "source": [
        ""
      ],
      "execution_count": null,
      "outputs": []
    },
    {
      "cell_type": "markdown",
      "metadata": {
        "id": "0BV5He55U4My"
      },
      "source": [
        "##**Discussion**\n"
      ]
    },
    {
      "cell_type": "markdown",
      "metadata": {
        "id": "a923g-m6GXQb"
      },
      "source": [
        "NumPy or Numerical Python, is mainly used for matrix and vector operations. It is capable of declaring computing and representing matrices. Most Python scientific programming libraries uses NumPy as the basic code.\n",
        "\n",
        "Scalars \\ Represent magnitude or a single value\n",
        "\n",
        "Vectors \\ Represent magnitude with directors\n",
        "\n",
        "Representing Vectors\n",
        "Now that you know how to represent vectors using their component and matrix form we can now hard-code them in Python. Let's say that you have the vectors:\n",
        "\n",
        "$$ A = 4\\hat{x} + 3\\hat{y} \\\\\n",
        "B = 2\\hat{x} - 5\\hat{y}\\\\\n",
        "C = 4ax + 3ay - 2az \\\\\n",
        "D = 2\\hat{i} - 2\\hat{j} + 3\\hat{k}$$\n",
        "In which it's matrix equivalent is:\n",
        "\n",
        "$$ A = \\begin{bmatrix} 4 \\\\ 3\\end{bmatrix} , B = \\begin{bmatrix} 2 \\\\ -5\\end{bmatrix} , C = \\begin{bmatrix} 4 \\\\ 3 \\\\  -2 \\end{bmatrix}, D = \\begin{bmatrix} 2 \\\\ -2 \\\\ 3\\end{bmatrix}\n",
        "$$$$ A = \\begin{bmatrix} 4 &amp; 3\\end{bmatrix} , B = \\begin{bmatrix} 2 &amp; -5\\end{bmatrix} , C = \\begin{bmatrix} 4 &amp; 3 &amp; -2\\end{bmatrix} , D = \\begin{bmatrix} 2 &amp; -2 &amp; 3\\end{bmatrix} \n",
        "$$\n",
        "We can then start doing numpy code with this by:"
      ]
    },
    {
      "cell_type": "markdown",
      "metadata": {
        "id": "0X-h6lz1EigD"
      },
      "source": [
        "## Activity"
      ]
    },
    {
      "cell_type": "markdown",
      "metadata": {
        "id": "6W0hsBfwElMj"
      },
      "source": [
        "We can then start doing numpy code with this by:"
      ]
    },
    {
      "cell_type": "code",
      "metadata": {
        "id": "uuoPQuWKZPpI"
      },
      "source": [
        "## Importing necessary libraries\n",
        "import numpy as np ## 'np' here is short-hand name of the library (numpy) or a nickname."
      ],
      "execution_count": 1,
      "outputs": []
    },
    {
      "cell_type": "code",
      "metadata": {
        "colab": {
          "base_uri": "https://localhost:8080/"
        },
        "id": "-3r8vljJIZ0t",
        "outputId": "da3e9a65-d470-4d8a-9af6-740fd0b3a885"
      },
      "source": [
        "A = np.array([4, 3])\n",
        "B = np.array([2, -5])\n",
        "C = np.array([\n",
        "              [4],\n",
        "              [3],\n",
        "              [-2]\n",
        "])\n",
        "D = np.array ([[2],\n",
        "              [-2],\n",
        "              [3]])\n",
        "print('Vector A is ', A)\n",
        "print('Vector B is ', B)\n",
        "print('Vector C is ', C)\n",
        "print('Vector D is ', D)"
      ],
      "execution_count": 2,
      "outputs": [
        {
          "output_type": "stream",
          "name": "stdout",
          "text": [
            "Vector A is  [4 3]\n",
            "Vector B is  [ 2 -5]\n",
            "Vector C is  [[ 4]\n",
            " [ 3]\n",
            " [-2]]\n",
            "Vector D is  [[ 2]\n",
            " [-2]\n",
            " [ 3]]\n"
          ]
        }
      ]
    },
    {
      "cell_type": "markdown",
      "metadata": {
        "id": "kO43g-jrIixl"
      },
      "source": [
        "Describing vectors in NumPy"
      ]
    },
    {
      "cell_type": "code",
      "metadata": {
        "colab": {
          "base_uri": "https://localhost:8080/"
        },
        "id": "0lyfZeM_IdCA",
        "outputId": "29588eb0-7fd0-4d99-8a9b-324f7dd8e816"
      },
      "source": [
        "### Checking shapes\n",
        "### Shapes tells us how many elements are there on each row and column\n",
        "\n",
        "A.shape\n",
        "H = np.array([1, 0, 2, 5, -0.2, 0])\n",
        "H.shape\n",
        "C.shape"
      ],
      "execution_count": 3,
      "outputs": [
        {
          "output_type": "execute_result",
          "data": {
            "text/plain": [
              "(3, 1)"
            ]
          },
          "metadata": {},
          "execution_count": 3
        }
      ]
    },
    {
      "cell_type": "code",
      "metadata": {
        "colab": {
          "base_uri": "https://localhost:8080/"
        },
        "id": "us2g6MkUImjM",
        "outputId": "531ab72b-ec17-4883-dcd5-964feb6ecfaf"
      },
      "source": [
        "### Checking size\n",
        "### Array/Vector sizes tells us many total number of elements are there in the vector\n",
        "\n",
        "D.size"
      ],
      "execution_count": 4,
      "outputs": [
        {
          "output_type": "execute_result",
          "data": {
            "text/plain": [
              "3"
            ]
          },
          "metadata": {},
          "execution_count": 4
        }
      ]
    },
    {
      "cell_type": "code",
      "metadata": {
        "colab": {
          "base_uri": "https://localhost:8080/"
        },
        "id": "8sL8wDqbIn8d",
        "outputId": "6b430076-1df2-40e8-9d13-d1c282ac1017"
      },
      "source": [
        "### Checking dimensions\n",
        "### The dimensions or rank of a vector tells us how many dimensions are there for the vector.\n",
        "\n",
        "D.ndim"
      ],
      "execution_count": 5,
      "outputs": [
        {
          "output_type": "execute_result",
          "data": {
            "text/plain": [
              "2"
            ]
          },
          "metadata": {},
          "execution_count": 5
        }
      ]
    },
    {
      "cell_type": "markdown",
      "metadata": {
        "id": "eVwPUHggIrt2"
      },
      "source": [
        "##Addition"
      ]
    },
    {
      "cell_type": "code",
      "metadata": {
        "id": "zx-hnmoFIufF"
      },
      "source": [
        "R = np.add(A, B) ## this is the functional method usisng the numpy library\n",
        "P = np.add(C, D)\n"
      ],
      "execution_count": 6,
      "outputs": []
    },
    {
      "cell_type": "code",
      "metadata": {
        "colab": {
          "base_uri": "https://localhost:8080/"
        },
        "id": "Hviw2QikIwIU",
        "outputId": "40a420fe-86b5-4c5e-f17d-107b4177a044"
      },
      "source": [
        "pos1 = np.array([0,0,0])\n",
        "pos2 = np.array([0,1,3])\n",
        "pos3 = np.array([1,5,-2])\n",
        "pos4 = np.array([5,-3,3])\n",
        "#R = pos1 + pos2 + pos3 + pos4\n",
        "#R = np.multiply(pos3, pos4)\n",
        "R = pos3 / pos4\n",
        "R"
      ],
      "execution_count": 7,
      "outputs": [
        {
          "output_type": "execute_result",
          "data": {
            "text/plain": [
              "array([ 0.2       , -1.66666667, -0.66666667])"
            ]
          },
          "metadata": {},
          "execution_count": 7
        }
      ]
    },
    {
      "cell_type": "markdown",
      "metadata": {
        "id": "9vmAiaMEIytU"
      },
      "source": [
        "Try to implement subtraction, multiplication, and division with vectors  A  and  B !"
      ]
    },
    {
      "cell_type": "code",
      "metadata": {
        "colab": {
          "base_uri": "https://localhost:8080/"
        },
        "id": "saCMEOuIIxte",
        "outputId": "f94dfc37-cf2e-4ca6-a7e3-c08e4153ad3b"
      },
      "source": [
        "### Try out your code here!\n",
        "A = np.array([7, 6, 5])\n",
        "B = np.array([5, 4, 3])\n",
        "\n",
        "SubtractVectors = np.subtract(A, B)\n",
        "print(SubtractVectors)\n",
        "MultiplyVectors = np.multiply(A, B)\n",
        "print(MultiplyVectors)\n",
        "DivisionVectors = np.divide(A, B)\n",
        "print(DivisionVectors)"
      ],
      "execution_count": 8,
      "outputs": [
        {
          "output_type": "stream",
          "name": "stdout",
          "text": [
            "[2 2 2]\n",
            "[35 24 15]\n",
            "[1.4        1.5        1.66666667]\n"
          ]
        }
      ]
    },
    {
      "cell_type": "markdown",
      "metadata": {
        "id": "Kj1CU0Q8I9G0"
      },
      "source": [
        "##Scaling\n",
        "\n",
        "Scaling or scalar multiplication takes a scalar value and performs multiplication with a vector. Let's take the example below:\n",
        "\n",
        "$$S = 5 \\cdot A$$\n",
        "\n",
        "We can do this in numpy through:"
      ]
    },
    {
      "cell_type": "code",
      "metadata": {
        "colab": {
          "base_uri": "https://localhost:8080/"
        },
        "id": "uZMz2ZKzJHU0",
        "outputId": "e2922813-7e59-4b03-cdf1-e0b90217d10c"
      },
      "source": [
        "SN = 10 #ScalingNumber\n",
        "Vector1 = np.array([4,5,6])\n",
        "Vector2 = np.array([6,7,8])\n",
        "\n",
        "Scale =SN* Vector1, Vector2\n",
        "print(Scale)"
      ],
      "execution_count": 9,
      "outputs": [
        {
          "output_type": "stream",
          "name": "stdout",
          "text": [
            "(array([40, 50, 60]), array([6, 7, 8]))\n"
          ]
        }
      ]
    },
    {
      "cell_type": "markdown",
      "metadata": {
        "id": "XVRogragJMKc"
      },
      "source": [
        "##MatPlotLib\n",
        "\n",
        "\n",
        "MatPlotLib or MATLab Plotting library is Python's take on MATLabs plotting feature. MatPlotLib can be used vastly from graping values to visualizing several dimensions of data.\n"
      ]
    },
    {
      "cell_type": "markdown",
      "metadata": {
        "id": "eB3c_0G5JSx8"
      },
      "source": [
        "##Visualizing Data\n",
        "It's not enough just solving these vectors so might need to visualize them. So we'll use MatPlotLib for that. We'll need to import it first.\n"
      ]
    },
    {
      "cell_type": "code",
      "metadata": {
        "id": "0kxzn4qBJXo8"
      },
      "source": [
        "import matplotlib.pyplot as plt\n",
        "import matplotlib\n",
        "%matplotlib inline"
      ],
      "execution_count": 10,
      "outputs": []
    },
    {
      "cell_type": "code",
      "metadata": {
        "colab": {
          "base_uri": "https://localhost:8080/",
          "height": 265
        },
        "id": "GCYRTpnCJZmU",
        "outputId": "67cb9337-ac3e-4ef8-d58e-11f4ba09f9a0"
      },
      "source": [
        "A = [2, -1]\n",
        "B = [3, -1]\n",
        "plt.scatter(A[1], A[1], label='A', c='green')\n",
        "plt.scatter(B[1], B[0], label='B', c='magenta')\n",
        "plt.grid()\n",
        "plt.legend()\n",
        "plt.show()"
      ],
      "execution_count": 30,
      "outputs": [
        {
          "output_type": "display_data",
          "data": {
            "image/png": "[encoded data removed]",
            "text/plain": [
              "<Figure size 432x288 with 1 Axes>"
            ]
          },
          "metadata": {
            "needs_background": "light"
          }
        }
      ]
    },
    {
      "cell_type": "markdown",
      "metadata": {
        "id": "ZY55NDFjJ9iE"
      },
      "source": [
        "Try plotting Three Vectors and show the Resultant Vector as a result. Use Head to Tail Method."
      ]
    },
    {
      "cell_type": "code",
      "metadata": {
        "colab": {
          "base_uri": "https://localhost:8080/",
          "height": 286
        },
        "id": "ot6wO6CqJ-U2",
        "outputId": "4e73f1d6-073e-4d8b-8938-ca73d5600ee1"
      },
      "source": [
        "A = np.array([1, -2])\n",
        "B = np.array([1, 2])\n",
        "C = np.array([1, 5])\n",
        "plt.xlim(-7, 8)\n",
        "plt.ylim(-9, 8)\n",
        "Q1 = plt.quiver(0,0, A[0], A[1], angles='xy', scale_units='xy',scale=1, color=\"red\")\n",
        "Q2 = plt.quiver(A[0],A[1], B[0], B[1], angles='xy', scale_units='xy',scale=1, color=\"blue\")\n",
        "Q3 = plt.quiver(2,0, C[0], C[1], angles='xy', scale_units='xy',scale=1, color=\"green\")\n",
        "R = A + B + C\n",
        "plt.quiver(0,0, R[0], R[1], angles='xy', scale_units='xy',scale=1, color=\"orange\")\n",
        "plt.grid()\n",
        "plt.show()\n",
        "print(\"The Resultant of the three Vectors is\", R)"
      ],
      "execution_count": 43,
      "outputs": [
        {
          "output_type": "display_data",
          "data": {
            "image/png": "[encoded data removed]",
            "text/plain": [
              "<Figure size 432x288 with 1 Axes>"
            ]
          },
          "metadata": {
            "needs_background": "light"
          }
        },
        {
          "output_type": "stream",
          "name": "stdout",
          "text": [
            "The Resultant of the three Vectors is [3 5]\n"
          ]
        }
      ]
    },
    {
      "cell_type": "markdown",
      "metadata": {
        "id": "dJy44WOdLHMd"
      },
      "source": [
        "##Conclusion"
      ]
    },
    {
      "cell_type": "markdown",
      "metadata": {
        "id": "dcr66YzuLJ-0"
      },
      "source": [
        "At the end of this laboratory we found out how to use Python programming correctly by creating codes in Processing and analyzing while conducting out this experiment. This laboratory activity attempts to put the methods and ideas of expressing and running codes into practice, and Numpy is a helpful program that allows you to easily construct a matrix and execute matrix operations. We learned many things about source code component that displayed matrix in this laboratory activity, which would have been important although the multiplier and all these other processes would become the foundation of how we should do as ECE students all through future lessons."
      ]
    }
  ]
}