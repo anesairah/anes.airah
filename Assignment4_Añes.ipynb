{
  "nbformat": 4,
  "nbformat_minor": 0,
  "metadata": {
    "colab": {
      "name": "Assignment4.ipynb",
      "provenance": [],
      "collapsed_sections": [],
      "authorship_tag": "ABX9TyPzpZgzLUcELyAplpFsqwLe",
      "include_colab_link": true
    },
    "kernelspec": {
      "name": "python3",
      "display_name": "Python 3"
    },
    "language_info": {
      "name": "python"
    }
  },
  "cells": [
    {
      "cell_type": "markdown",
      "metadata": {
        "id": "view-in-github",
        "colab_type": "text"
      },
      "source": [
        "<a href=\"https://colab.research.google.com/github/anesairah/anes.airah/blob/main/Assignment4_A%C3%B1es.ipynb\" target=\"_parent\"><img src=\"https://colab.research.google.com/assets/colab-badge.svg\" alt=\"Open In Colab\"/></a>"
      ]
    },
    {
      "cell_type": "markdown",
      "metadata": {
        "id": "84LglUsLoOu-"
      },
      "source": [
        "### Añes, Airah Marie\n",
        "Assignment 4"
      ]
    },
    {
      "cell_type": "markdown",
      "metadata": {
        "id": "0X-h6lz1EigD"
      },
      "source": [
        "## Activity"
      ]
    },
    {
      "cell_type": "markdown",
      "metadata": {
        "id": "6W0hsBfwElMj"
      },
      "source": [
        "## Task 1\n",
        "Create a function named mat_desc() that througouhly describes a matrix, it should:\n",
        "\n",
        "1. Displays the shape, size, and rank of the matrix.\n",
        "2. Displays whether the matrix is square or non-square.\n",
        "3. Displays whether the matrix is an empty matrix.\n",
        "4. Displays if the matrix is an identity, ones, or zeros matrix\n",
        "\n",
        "Use 5 sample matrices in which their shapes are not lower than $(3,3)$. In your methodology, create a flowchart discuss the functions and methods you have done. Present your results in the results section showing the description of each matrix you have declared."
      ]
    },
    {
      "cell_type": "code",
      "metadata": {
        "id": "-HRMoTtNEqVq"
      },
      "source": [
        "import numpy as np\n",
        "import matplotlib.pyplot as plt\n",
        "import scipy.linalg as la\n",
        "%matplotlib inline"
      ],
      "execution_count": 1,
      "outputs": []
    },
    {
      "cell_type": "code",
      "metadata": {
        "id": "6JpIwrh9EtI7"
      },
      "source": [
        "def desc_mat(matrix):\n",
        "    if matrix.size > 0:\n",
        "        is_square = True if matrix.shape[0] == matrix.shape[1] else False \n",
        "        print(f'Matrix:\\n{matrix}\\n\\nShape:\\t{matrix.shape}\\nRank:\\t{matrix.ndim}\\nIs Square: {is_square}\\n')\n",
        "    else:\n",
        "        print('Matrix is Null')"
      ],
      "execution_count": 2,
      "outputs": []
    },
    {
      "cell_type": "code",
      "metadata": {
        "id": "Y2GiNvzLExRU"
      },
      "source": [
        "C = np.array([\n",
        "              [5,4,6],\n",
        "              [3,5,1],\n",
        "              [2,8,7]\n",
        "])\n",
        "\n",
        "K = np.array([\n",
        "              [3,4,2],\n",
        "              [7,9,6],\n",
        "              [5,4,1]\n",
        "])\n",
        "\n",
        "M = np.array([])\n",
        "\n",
        "ones_mat_row = np.ones((2,3))\n",
        "\n",
        "E = np.eye(2,3)\n"
      ],
      "execution_count": 22,
      "outputs": []
    },
    {
      "cell_type": "code",
      "metadata": {
        "colab": {
          "base_uri": "https://localhost:8080/"
        },
        "id": "3w1i7lDAKCQV",
        "outputId": "d917100a-ce45-448b-e932-232bde1bb6c0"
      },
      "source": [
        "desc_mat(C)"
      ],
      "execution_count": 23,
      "outputs": [
        {
          "output_type": "stream",
          "name": "stdout",
          "text": [
            "Matrix:\n",
            "[[5 4 6]\n",
            " [3 5 1]\n",
            " [2 8 7]]\n",
            "\n",
            "Shape:\t(3, 3)\n",
            "Rank:\t2\n",
            "Is Square: True\n",
            "\n"
          ]
        }
      ]
    },
    {
      "cell_type": "code",
      "metadata": {
        "colab": {
          "base_uri": "https://localhost:8080/"
        },
        "id": "uLmT41pOP3pA",
        "outputId": "b85e27f9-b11a-4b04-8200-9faa4b68c3cc"
      },
      "source": [
        "desc_mat(K)"
      ],
      "execution_count": 24,
      "outputs": [
        {
          "output_type": "stream",
          "name": "stdout",
          "text": [
            "Matrix:\n",
            "[[3 4 2]\n",
            " [7 9 6]\n",
            " [5 4 1]]\n",
            "\n",
            "Shape:\t(3, 3)\n",
            "Rank:\t2\n",
            "Is Square: True\n",
            "\n"
          ]
        }
      ]
    },
    {
      "cell_type": "code",
      "metadata": {
        "colab": {
          "base_uri": "https://localhost:8080/"
        },
        "id": "j5VzCy9HP62H",
        "outputId": "6ee81d28-f6d7-4faa-f920-5d2c1e22bc86"
      },
      "source": [
        "desc_mat(M)"
      ],
      "execution_count": 25,
      "outputs": [
        {
          "output_type": "stream",
          "name": "stdout",
          "text": [
            "Matrix is Null\n"
          ]
        }
      ]
    },
    {
      "cell_type": "code",
      "metadata": {
        "colab": {
          "base_uri": "https://localhost:8080/"
        },
        "id": "-_iF7nQdP_bA",
        "outputId": "38bf2973-7cc0-43e4-ed34-fc9876c69a01"
      },
      "source": [
        "print(f'Ones Row Matrix: \\n{ones_mat_row}')"
      ],
      "execution_count": 26,
      "outputs": [
        {
          "output_type": "stream",
          "name": "stdout",
          "text": [
            "Ones Row Matrix: \n",
            "[[1. 1. 1.]\n",
            " [1. 1. 1.]]\n"
          ]
        }
      ]
    },
    {
      "cell_type": "code",
      "metadata": {
        "colab": {
          "base_uri": "https://localhost:8080/"
        },
        "id": "_YeLUwJzQOQ4",
        "outputId": "cd04e65e-5fbd-4961-c2b3-9789c69860f4"
      },
      "source": [
        "desc_mat(E)"
      ],
      "execution_count": 27,
      "outputs": [
        {
          "output_type": "stream",
          "name": "stdout",
          "text": [
            "Matrix:\n",
            "[[1. 0. 0.]\n",
            " [0. 1. 0.]]\n",
            "\n",
            "Shape:\t(2, 3)\n",
            "Rank:\t2\n",
            "Is Square: False\n",
            "\n"
          ]
        }
      ]
    },
    {
      "cell_type": "markdown",
      "metadata": {
        "id": "A8N1g1U5MZnv"
      },
      "source": [
        "## Task2\n",
        "Create a function named mat_operations() that takes in two matrices a input parameters it should:\n",
        "\n",
        "1. Determines if the matrices are viable for operation and returns your own error message if they are not viable.\n",
        "2. Returns the sum of the matrices.\n",
        "3. Returns the differen of the matrices.\n",
        "4. Returns the element-wise multiplication of the matrices.\n",
        "5. Returns the element-wise division of the matrices.\n",
        "\n",
        "Use 5 sample matrices in which their shapes are not lower than $(3,3)$. In your methodology, create a flowchart discuss the functions and methods you have done. Present your results in the results section showing the description of each matrix you have declared"
      ]
    },
    {
      "cell_type": "code",
      "metadata": {
        "id": "3FN2suqsMszI"
      },
      "source": [
        "def mat_operations(np,matA,matB):\n",
        "  if matA.size > 0 or matB.size > 0:\n",
        "    if matA.shape == matB.shape:\n",
        "      if np == 'Add':\n",
        "        sum = M1 + M2\n",
        "        print(f'\\nThe Sum of \\n{matA} \\n\\n+\\n\\n {matB} \\n\\n is equal to:\\n\\n {sum}')\n",
        "      if np == 'Subtract':\n",
        "        sub = matA - matB\n",
        "        print(f'\\nThe Difference of \\n{matA} \\n\\n-\\n\\n {matB} \\n\\n is equal to:\\n\\n {sub}')\n",
        "      if np == 'Multiply':\n",
        "        mul = matA * matB\n",
        "        print(f'\\nThe Product of \\n{matA} \\n\\nx\\n\\n {matB} \\n\\n is equal to:\\n\\n {mul}')\n",
        "      if np == 'Divide':\n",
        "        div = matA / matB\n",
        "        print(f'\\nThe Result of \\n{matA} \\n\\n/\\n\\n {matB} \\n\\n is equal to:\\n\\n {div}')\n",
        "      else:\n",
        "        print(f'Operation Not Found!')\n",
        "    else:\n",
        "      print(f'Syntax Error! Invalid Matrices detected.')\n",
        "  else:\n",
        "    print(f'One or Both the Matrix is NULL')"
      ],
      "execution_count": 29,
      "outputs": []
    }
  ]
}