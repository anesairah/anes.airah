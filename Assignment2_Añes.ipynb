{
  "nbformat": 4,
  "nbformat_minor": 0,
  "metadata": {
    "colab": {
      "name": "Assignment2.ipynb",
      "provenance": [],
      "collapsed_sections": [],
      "authorship_tag": "ABX9TyMi6OCRv/ESZY5Ikj63egmC",
      "include_colab_link": true
    },
    "kernelspec": {
      "name": "python3",
      "display_name": "Python 3"
    },
    "language_info": {
      "name": "python"
    }
  },
  "cells": [
    {
      "cell_type": "markdown",
      "metadata": {
        "id": "view-in-github",
        "colab_type": "text"
      },
      "source": [
        "<a href=\"https://colab.research.google.com/github/anesairah/haikus-for-codespaces/blob/main/Assignment2_A%C3%B1es.ipynb\" target=\"_parent\"><img src=\"https://colab.research.google.com/assets/colab-badge.svg\" alt=\"Open In Colab\"/></a>"
      ]
    },
    {
      "cell_type": "markdown",
      "metadata": {
        "id": "84LglUsLoOu-"
      },
      "source": [
        "### Añes, Airah Marie\n",
        "Assignment 2"
      ]
    },
    {
      "cell_type": "markdown",
      "metadata": {
        "id": "xzSH_EzUesWG"
      },
      "source": [
        "## Welcome to Python Fundamentals\n",
        "\n",
        "\n",
        "Python fundamentals is a set of courses that cover the essential Python skills needed to get started in the field of data science.\n",
        "\n",
        "\n",
        "\n",
        "\n",
        "\n",
        "\n",
        "\n"
      ]
    },
    {
      "cell_type": "markdown",
      "metadata": {
        "id": "J-F0_z1phmSS"
      },
      "source": [
        "### Variable and Data Types\n",
        "It represents the kind of value that specifies which operations may be done on a given piece of data since data types are really classes in Python, and variables are instances (objects) of these classes. Python's standard or built-in data type is numeric."
      ]
    },
    {
      "cell_type": "code",
      "metadata": {
        "id": "lJLrSuB6iAOD"
      },
      "source": [
        "x = 1\n",
        "a, b = 3, -2"
      ],
      "execution_count": null,
      "outputs": []
    },
    {
      "cell_type": "code",
      "metadata": {
        "colab": {
          "base_uri": "https://localhost:8080/"
        },
        "id": "aED7jzW3iLek",
        "outputId": "8540c23c-e518-4fdf-b0a9-16142c54aa1a"
      },
      "source": [
        "y = 3.0\n",
        "type(y)"
      ],
      "execution_count": null,
      "outputs": [
        {
          "output_type": "execute_result",
          "data": {
            "text/plain": [
              "float"
            ]
          },
          "metadata": {},
          "execution_count": 41
        }
      ]
    },
    {
      "cell_type": "code",
      "metadata": {
        "colab": {
          "base_uri": "https://localhost:8080/"
        },
        "id": "fPVN6pCfiR8z",
        "outputId": "25f43e56-74e1-4a94-9980-e58b7c3a9c28"
      },
      "source": [
        "x = float(x)\n",
        "type(x)\n"
      ],
      "execution_count": null,
      "outputs": [
        {
          "output_type": "execute_result",
          "data": {
            "text/plain": [
              "float"
            ]
          },
          "metadata": {},
          "execution_count": 40
        }
      ]
    },
    {
      "cell_type": "code",
      "metadata": {
        "colab": {
          "base_uri": "https://localhost:8080/"
        },
        "id": "VB_xNAH1ib4u",
        "outputId": "797fba6d-8e8d-4212-c0e9-6598a71654b0"
      },
      "source": [
        "s, t, u = \"1\", '3', 'three'\n",
        "type(u)"
      ],
      "execution_count": null,
      "outputs": [
        {
          "output_type": "execute_result",
          "data": {
            "text/plain": [
              "str"
            ]
          },
          "metadata": {},
          "execution_count": 42
        }
      ]
    },
    {
      "cell_type": "markdown",
      "metadata": {
        "id": "vdzh_uwiivt6"
      },
      "source": [
        "## Operations\n",
        "In Python, operators are special symbols that perform arithmetic or logical computations."
      ]
    },
    {
      "cell_type": "markdown",
      "metadata": {
        "id": "onFI9NR1i8Ki"
      },
      "source": [
        "### Arithmetic\n",
        "It combines the values on either side of the operator."
      ]
    },
    {
      "cell_type": "code",
      "metadata": {
        "id": "AH8rspyxjJ3M"
      },
      "source": [
        "w, x, y, z = 4.0, -3.0, 2, -32"
      ],
      "execution_count": null,
      "outputs": []
    },
    {
      "cell_type": "code",
      "metadata": {
        "colab": {
          "base_uri": "https://localhost:8080/"
        },
        "id": "qgZXI_LDjcRm",
        "outputId": "cad66923-afd9-4db9-dbc1-36e3feb23225"
      },
      "source": [
        "### Addition\n",
        "S = w + x\n",
        "S"
      ],
      "execution_count": null,
      "outputs": [
        {
          "output_type": "execute_result",
          "data": {
            "text/plain": [
              "1.0"
            ]
          },
          "metadata": {},
          "execution_count": 36
        }
      ]
    },
    {
      "cell_type": "code",
      "metadata": {
        "colab": {
          "base_uri": "https://localhost:8080/"
        },
        "id": "GJtKRQtxj3xP",
        "outputId": "cddffff4-30a6-48df-aef3-7a2cbcc13006"
      },
      "source": [
        "### Subtraction\n",
        "D = y - z\n",
        "D"
      ],
      "execution_count": null,
      "outputs": [
        {
          "output_type": "execute_result",
          "data": {
            "text/plain": [
              "34"
            ]
          },
          "metadata": {},
          "execution_count": 35
        }
      ]
    },
    {
      "cell_type": "code",
      "metadata": {
        "colab": {
          "base_uri": "https://localhost:8080/"
        },
        "id": "CslgDZtQkyWl",
        "outputId": "37e9dc8a-d7a0-4b30-8bf9-0e6b1ef33991"
      },
      "source": [
        "### Multiplication\n",
        "P = w*z\n",
        "P"
      ],
      "execution_count": null,
      "outputs": [
        {
          "output_type": "execute_result",
          "data": {
            "text/plain": [
              "-128.0"
            ]
          },
          "metadata": {},
          "execution_count": 34
        }
      ]
    },
    {
      "cell_type": "code",
      "metadata": {
        "colab": {
          "base_uri": "https://localhost:8080/"
        },
        "id": "RXHk6gmlk8Qx",
        "outputId": "6798fc25-9fec-4e83-b485-764e99c4ffdc"
      },
      "source": [
        "### Division\n",
        "Q = y/x\n",
        "Q"
      ],
      "execution_count": null,
      "outputs": [
        {
          "output_type": "execute_result",
          "data": {
            "text/plain": [
              "-0.6666666666666666"
            ]
          },
          "metadata": {},
          "execution_count": 33
        }
      ]
    },
    {
      "cell_type": "code",
      "metadata": {
        "colab": {
          "base_uri": "https://localhost:8080/"
        },
        "id": "tGUi6g5nlFAE",
        "outputId": "da8d03b0-59d2-4d02-ec6f-62039626f108"
      },
      "source": [
        "### Floor Division\n",
        "Qf = w//z\n",
        "Qf"
      ],
      "execution_count": null,
      "outputs": [
        {
          "output_type": "execute_result",
          "data": {
            "text/plain": [
              "-1.0"
            ]
          },
          "metadata": {},
          "execution_count": 30
        }
      ]
    },
    {
      "cell_type": "code",
      "metadata": {
        "colab": {
          "base_uri": "https://localhost:8080/"
        },
        "id": "cHYGXdMblQpQ",
        "outputId": "d0cf1156-37d6-4d9d-80b1-2b2165513366"
      },
      "source": [
        "### Exponentiation\n",
        "E = w**w\n",
        "E"
      ],
      "execution_count": null,
      "outputs": [
        {
          "output_type": "execute_result",
          "data": {
            "text/plain": [
              "256.0"
            ]
          },
          "metadata": {},
          "execution_count": 32
        }
      ]
    },
    {
      "cell_type": "code",
      "metadata": {
        "colab": {
          "base_uri": "https://localhost:8080/"
        },
        "id": "KJW6Uae6llri",
        "outputId": "07b3a8fd-e55e-419b-9fb1-010d43476b76"
      },
      "source": [
        "### Modulo\n",
        "mod = z%x\n",
        "mod"
      ],
      "execution_count": null,
      "outputs": [
        {
          "output_type": "execute_result",
          "data": {
            "text/plain": [
              "-2.0"
            ]
          },
          "metadata": {},
          "execution_count": 37
        }
      ]
    },
    {
      "cell_type": "markdown",
      "metadata": {
        "id": "Mq1LCXkDlziS"
      },
      "source": [
        "### Assignment"
      ]
    },
    {
      "cell_type": "code",
      "metadata": {
        "id": "1uVvhNUZl2C4"
      },
      "source": [
        "A, B, C, D, E = 0, 100, 2, 1, 2"
      ],
      "execution_count": null,
      "outputs": []
    },
    {
      "cell_type": "code",
      "metadata": {
        "colab": {
          "base_uri": "https://localhost:8080/"
        },
        "id": "iaM4QOcsl-jS",
        "outputId": "7a6938c5-2cf2-4e57-e74d-382a0a2642c6"
      },
      "source": [
        "A += w\n",
        "A"
      ],
      "execution_count": null,
      "outputs": [
        {
          "output_type": "execute_result",
          "data": {
            "text/plain": [
              "8.0"
            ]
          },
          "metadata": {},
          "execution_count": 46
        }
      ]
    },
    {
      "cell_type": "code",
      "metadata": {
        "colab": {
          "base_uri": "https://localhost:8080/"
        },
        "id": "YiRmKhEbmEMX",
        "outputId": "4741afdc-0b2c-44fd-e5e8-cc6f2414f962"
      },
      "source": [
        "B -= x\n",
        "B"
      ],
      "execution_count": null,
      "outputs": [
        {
          "output_type": "execute_result",
          "data": {
            "text/plain": [
              "99.0"
            ]
          },
          "metadata": {},
          "execution_count": 45
        }
      ]
    },
    {
      "cell_type": "code",
      "metadata": {
        "colab": {
          "base_uri": "https://localhost:8080/"
        },
        "id": "U_R_dga-mJu1",
        "outputId": "3f365288-a212-45be-881d-f08672f03454"
      },
      "source": [
        "C *= w\n",
        "C"
      ],
      "execution_count": null,
      "outputs": [
        {
          "output_type": "execute_result",
          "data": {
            "text/plain": [
              "8.0"
            ]
          },
          "metadata": {},
          "execution_count": 47
        }
      ]
    },
    {
      "cell_type": "code",
      "metadata": {
        "colab": {
          "base_uri": "https://localhost:8080/"
        },
        "id": "zsdR45bDmNvF",
        "outputId": "7553f16a-3afd-4317-d007-4fb6153a07bb"
      },
      "source": [
        "D /= x\n",
        "D"
      ],
      "execution_count": null,
      "outputs": [
        {
          "output_type": "execute_result",
          "data": {
            "text/plain": [
              "1.0"
            ]
          },
          "metadata": {},
          "execution_count": 48
        }
      ]
    },
    {
      "cell_type": "code",
      "metadata": {
        "colab": {
          "base_uri": "https://localhost:8080/"
        },
        "id": "aBD77kCUmRdS",
        "outputId": "299f6135-ef31-4299-81dc-57a4fbfec935"
      },
      "source": [
        "E **= y\n",
        "E"
      ],
      "execution_count": null,
      "outputs": [
        {
          "output_type": "execute_result",
          "data": {
            "text/plain": [
              "8.0"
            ]
          },
          "metadata": {},
          "execution_count": 49
        }
      ]
    },
    {
      "cell_type": "markdown",
      "metadata": {
        "id": "HtIMcBigAFAh"
      },
      "source": [
        "### Comparators\n",
        "It is usual to compare two values. It typically returns boolean values of True or False.\n",
        "\n"
      ]
    },
    {
      "cell_type": "code",
      "metadata": {
        "id": "F8e7TlT183oP"
      },
      "source": [
        "size_1, size_2, size_3 = 1, 2.0, \"1\"\n",
        "true_size = 1.0"
      ],
      "execution_count": null,
      "outputs": []
    },
    {
      "cell_type": "code",
      "metadata": {
        "colab": {
          "base_uri": "https://localhost:8080/"
        },
        "id": "XKK6tBDH-zHc",
        "outputId": "e1bd1234-a76e-42e0-bfbf-0a0f081cd37c"
      },
      "source": [
        "## Equality\n",
        "size_1 == true_size"
      ],
      "execution_count": null,
      "outputs": [
        {
          "output_type": "execute_result",
          "data": {
            "text/plain": [
              "True"
            ]
          },
          "metadata": {},
          "execution_count": 51
        }
      ]
    },
    {
      "cell_type": "code",
      "metadata": {
        "colab": {
          "base_uri": "https://localhost:8080/"
        },
        "id": "ipQXu04j_B6f",
        "outputId": "da338e10-c567-4d7a-b854-9e58fa2ac36d"
      },
      "source": [
        "## non-Equality\n",
        "size_2 != true_size"
      ],
      "execution_count": null,
      "outputs": [
        {
          "output_type": "execute_result",
          "data": {
            "text/plain": [
              "True"
            ]
          },
          "metadata": {},
          "execution_count": 52
        }
      ]
    },
    {
      "cell_type": "code",
      "metadata": {
        "id": "lex67Nbr_Mo1"
      },
      "source": [
        "## Inequality\n",
        "s1 = size_1 > size_2\n",
        "s2 = size_1 < size_2/2\n",
        "s3 = true_size >= size_1\n",
        "s4 = size_2 <= true_size"
      ],
      "execution_count": null,
      "outputs": []
    },
    {
      "cell_type": "markdown",
      "metadata": {
        "id": "KaCUq4W8_4QZ"
      },
      "source": [
        "\n",
        "### Logical\n",
        "used to mix variables' (or phrases') true or false values in order to determine their ultimate truth value."
      ]
    },
    {
      "cell_type": "code",
      "metadata": {
        "id": "3QDiPj_n_6go"
      },
      "source": [
        "size_1 == true_size"
      ],
      "execution_count": null,
      "outputs": []
    },
    {
      "cell_type": "code",
      "metadata": {
        "id": "7QUHmroJAQDq",
        "colab": {
          "base_uri": "https://localhost:8080/"
        },
        "outputId": "6b1e1da1-a200-48d5-dab6-f756a991d497"
      },
      "source": [
        "size_1 is true_size"
      ],
      "execution_count": null,
      "outputs": [
        {
          "output_type": "execute_result",
          "data": {
            "text/plain": [
              "False"
            ]
          },
          "metadata": {},
          "execution_count": 56
        }
      ]
    },
    {
      "cell_type": "code",
      "metadata": {
        "id": "P32Be0oJAaK0",
        "colab": {
          "base_uri": "https://localhost:8080/"
        },
        "outputId": "7ca5c3d2-856c-4d04-9fa7-c70eaba8fec6"
      },
      "source": [
        "size_1 is not true_size"
      ],
      "execution_count": null,
      "outputs": [
        {
          "output_type": "execute_result",
          "data": {
            "text/plain": [
              "True"
            ]
          },
          "metadata": {},
          "execution_count": 62
        }
      ]
    },
    {
      "cell_type": "code",
      "metadata": {
        "id": "f2aqCosXAfkC",
        "colab": {
          "base_uri": "https://localhost:8080/"
        },
        "outputId": "950b4875-343e-42ba-c8d5-2b8d183c13dc"
      },
      "source": [
        "P, Q = True, False\n",
        "conj = P and Q\n",
        "conj"
      ],
      "execution_count": null,
      "outputs": [
        {
          "output_type": "execute_result",
          "data": {
            "text/plain": [
              "False"
            ]
          },
          "metadata": {},
          "execution_count": 64
        }
      ]
    },
    {
      "cell_type": "code",
      "metadata": {
        "id": "s110fdqSA9Tk",
        "colab": {
          "base_uri": "https://localhost:8080/"
        },
        "outputId": "c5d28f35-a7b0-4827-fee6-0ed3724fa4a6"
      },
      "source": [
        "disj = P or Q\n",
        "disj"
      ],
      "execution_count": null,
      "outputs": [
        {
          "output_type": "execute_result",
          "data": {
            "text/plain": [
              "True"
            ]
          },
          "metadata": {},
          "execution_count": 65
        }
      ]
    },
    {
      "cell_type": "code",
      "metadata": {
        "id": "sHy8-8-8BJWm",
        "colab": {
          "base_uri": "https://localhost:8080/"
        },
        "outputId": "73a7c9d9-7fb3-4c4c-d94a-1f3988fa2736"
      },
      "source": [
        "nand = not(P and Q)\n",
        "nand"
      ],
      "execution_count": null,
      "outputs": [
        {
          "output_type": "execute_result",
          "data": {
            "text/plain": [
              "True"
            ]
          },
          "metadata": {},
          "execution_count": 66
        }
      ]
    },
    {
      "cell_type": "code",
      "metadata": {
        "id": "YnqTa4N_BV86",
        "colab": {
          "base_uri": "https://localhost:8080/"
        },
        "outputId": "ad42f439-da2b-45ce-c39c-35ebca0ddfb7"
      },
      "source": [
        "xor = (not P and Q)or (P and not Q)\n",
        "xor"
      ],
      "execution_count": null,
      "outputs": [
        {
          "output_type": "execute_result",
          "data": {
            "text/plain": [
              "True"
            ]
          },
          "metadata": {},
          "execution_count": 67
        }
      ]
    },
    {
      "cell_type": "markdown",
      "metadata": {
        "id": "tnvSduzcKHVM"
      },
      "source": [
        "### Input and Output\n",
        "An input/output statement, often known as an IO statement, is a section of a program that directs a computer on how to read and process data."
      ]
    },
    {
      "cell_type": "code",
      "metadata": {
        "id": "thJfYanVLB1z"
      },
      "source": [
        "cnt = 14000"
      ],
      "execution_count": null,
      "outputs": []
    },
    {
      "cell_type": "code",
      "metadata": {
        "id": "5Kh3fvMkKSr7",
        "colab": {
          "base_uri": "https://localhost:8080/"
        },
        "outputId": "173146f0-bbb1-4231-cd08-e166db22b632"
      },
      "source": [
        "print(\"Hello World!\")\n"
      ],
      "execution_count": null,
      "outputs": [
        {
          "output_type": "stream",
          "name": "stdout",
          "text": [
            "Hello World!\n"
          ]
        }
      ]
    },
    {
      "cell_type": "code",
      "metadata": {
        "id": "-1OAJ2ufPQmL",
        "colab": {
          "base_uri": "https://localhost:8080/"
        },
        "outputId": "a4482cae-f0bc-403f-f681-34c3d290fdc7"
      },
      "source": [
        "print(\"{string}, current count is: {cnt}\")\n",
        "string = \"Hello World!\"\n",
        "print(string, \", Current COVID count is:\", cnt)\n",
        "cnt += 10000\n"
      ],
      "execution_count": null,
      "outputs": [
        {
          "output_type": "stream",
          "name": "stdout",
          "text": [
            "{string}, current count is: {cnt}\n",
            "Hello World! , Current COVID count is: 14000\n"
          ]
        }
      ]
    },
    {
      "cell_type": "code",
      "metadata": {
        "id": "M1nOLFvcPV7y",
        "colab": {
          "base_uri": "https://localhost:8080/"
        },
        "outputId": "47ef1846-eb39-4783-bbea-a6d170f75fae"
      },
      "source": [
        "sem_grade = 86.25\n",
        "name = \"Airah\"\n",
        "print(\"Hello {}, your semestral grade is: {}\".format(name, sem_grade))\n"
      ],
      "execution_count": null,
      "outputs": [
        {
          "output_type": "stream",
          "name": "stdout",
          "text": [
            "Hello Airah, your semestral grade is: 86.25\n"
          ]
        }
      ]
    },
    {
      "cell_type": "code",
      "metadata": {
        "id": "_3k-v9g4PYyV",
        "colab": {
          "base_uri": "https://localhost:8080/"
        },
        "outputId": "d51a3795-0308-42c7-9976-167c24571595"
      },
      "source": [
        "\n",
        "pg, mg, fg = 98, 85, 65\n",
        "print(\"The Weights of your semestral grade are:\\\n",
        "\\n\\t {:} for prelims\\\n",
        "\\n\\t {:} for Midterms, and\\\n",
        "\\n\\t {:} for Finals.\".format(pg, mg, fg))\n",
        "\n"
      ],
      "execution_count": null,
      "outputs": [
        {
          "output_type": "stream",
          "name": "stdout",
          "text": [
            "The Weights of your semestral grade are:\n",
            "\t 98 for prelims\n",
            "\t 85 for Midterms, and\n",
            "\t 65 for Finals.\n"
          ]
        }
      ]
    },
    {
      "cell_type": "code",
      "metadata": {
        "id": "62mKpkfOPb61",
        "colab": {
          "base_uri": "https://localhost:8080/"
        },
        "outputId": "04f02ee5-d868-4780-c705-fdbb19ddd083"
      },
      "source": [
        "e = input(\"Enter a number: \")\n"
      ],
      "execution_count": null,
      "outputs": [
        {
          "name": "stdout",
          "output_type": "stream",
          "text": [
            "Enter a number: 25\n"
          ]
        }
      ]
    },
    {
      "cell_type": "code",
      "metadata": {
        "colab": {
          "base_uri": "https://localhost:8080/"
        },
        "id": "aQVVEttyPfHC",
        "outputId": "d2b6c75b-bc3d-4ce4-df91-1bf0325e58c2"
      },
      "source": [
        "name = input(\"Enter your name: \")\n",
        "pg = input(\"Enter prelim grade: \")\n",
        "mg = input(\"Enter midterm grade: \")\n",
        "fg = input(\"Enter final grade: \")\n"
      ],
      "execution_count": null,
      "outputs": [
        {
          "name": "stdout",
          "output_type": "stream",
          "text": [
            "Enter your name: a\n",
            "Enter prelim grade: 90\n",
            "Enter midterm grade: 80\n",
            "Enter final grade: 70\n"
          ]
        }
      ]
    },
    {
      "cell_type": "code",
      "metadata": {
        "id": "krUGAB9-PglJ"
      },
      "source": [
        ""
      ],
      "execution_count": null,
      "outputs": []
    },
    {
      "cell_type": "markdown",
      "metadata": {
        "id": "-1YSYkSFLXar"
      },
      "source": [
        "## While \n",
        "used to run a set of statements continuously until a condition is fulfilled."
      ]
    },
    {
      "cell_type": "code",
      "metadata": {
        "id": "lei9BjwjLft1",
        "colab": {
          "base_uri": "https://localhost:8080/"
        },
        "outputId": "aaceb280-f076-4010-8dc8-1d4f6fbd4471"
      },
      "source": [
        "## while loops\n",
        "i, j = 0 , 10\n",
        "while(i<=j):\n",
        "    print(f\"{i}\\t|\\t{j}\")\n",
        "    i += 1"
      ],
      "execution_count": null,
      "outputs": [
        {
          "output_type": "stream",
          "name": "stdout",
          "text": [
            "0\t|\t10\n",
            "1\t|\t10\n",
            "2\t|\t10\n",
            "3\t|\t10\n",
            "4\t|\t10\n",
            "5\t|\t10\n",
            "6\t|\t10\n",
            "7\t|\t10\n",
            "8\t|\t10\n",
            "9\t|\t10\n",
            "10\t|\t10\n"
          ]
        }
      ]
    },
    {
      "cell_type": "markdown",
      "metadata": {
        "id": "xGYmL1_7L5mr"
      },
      "source": [
        "## For\n",
        "When you have a piece of code that you wish to repeat a set number of times, you use a loop. The for statement in Python repeats through the elements of a sequence in order, executing the block each time."
      ]
    },
    {
      "cell_type": "code",
      "metadata": {
        "id": "krlXInmJL7g5",
        "colab": {
          "base_uri": "https://localhost:8080/"
        },
        "outputId": "fc931b7c-7dce-4adb-8bef-3183516af7ad"
      },
      "source": [
        "# for(int = 0; i<10; i++){\n",
        "# print(i)\n",
        "#}\n",
        "\n",
        "i = 0\n",
        "for i in range(11):\n",
        "  print(i)"
      ],
      "execution_count": null,
      "outputs": [
        {
          "output_type": "stream",
          "name": "stdout",
          "text": [
            "0\n",
            "1\n",
            "2\n",
            "3\n",
            "4\n",
            "5\n",
            "6\n",
            "7\n",
            "8\n",
            "9\n",
            "10\n"
          ]
        }
      ]
    },
    {
      "cell_type": "code",
      "metadata": {
        "id": "muPbo1NkMv-a",
        "colab": {
          "base_uri": "https://localhost:8080/"
        },
        "outputId": "ef578aff-4a31-4f50-aaae-c04a2047ac99"
      },
      "source": [
        "playlist = [\"awit\", \"sayo\", \"lods\"]\n",
        "print('Now playing:\\n')\n",
        "for song in playlist:\n",
        "  print(song)"
      ],
      "execution_count": null,
      "outputs": [
        {
          "output_type": "stream",
          "name": "stdout",
          "text": [
            "Now playing:\n",
            "\n",
            "awit\n",
            "sayo\n",
            "lods\n"
          ]
        }
      ]
    },
    {
      "cell_type": "markdown",
      "metadata": {
        "id": "iRtGfi36NNRQ"
      },
      "source": [
        "## Flow Control"
      ]
    },
    {
      "cell_type": "markdown",
      "metadata": {
        "id": "O5-u85a3NY-y"
      },
      "source": [
        "### Condition Statement\n",
        "Based on whether a certain Boolean condition evaluates to true or false, execute various calculations or actions In Python, conditional statements are handled using IF statements."
      ]
    },
    {
      "cell_type": "code",
      "metadata": {
        "id": "XKzYQxN0NZ7k",
        "colab": {
          "base_uri": "https://localhost:8080/"
        },
        "outputId": "4b9fa370-1845-4bae-bcf8-0f0a9f6963c5"
      },
      "source": [
        "num_1, num_2 = 14, 12\n",
        "if(num_1 == num_2):\n",
        "  print(\"haha\")\n",
        "elif (num_1>num_2):\n",
        "    print(\"huhu\")\n",
        "else:\n",
        "      print(\"hoho\")"
      ],
      "execution_count": null,
      "outputs": [
        {
          "output_type": "stream",
          "name": "stdout",
          "text": [
            "huhu\n"
          ]
        }
      ]
    },
    {
      "cell_type": "markdown",
      "metadata": {
        "id": "AL6g5r0BOSDg"
      },
      "source": [
        "### Functions\n",
        "A function is a reusable unit of code that is used to accomplish a single, related operation as functions improve the modularity of your program and allow for more code reuse."
      ]
    },
    {
      "cell_type": "code",
      "metadata": {
        "id": "sizqFnGHOUma"
      },
      "source": [
        "# void DeleterUser (int unserid){\n",
        "    # delete(userid);\n",
        "#}\n",
        "\n",
        "def delete_user (userid):\n",
        "  print(\"Successfully deleted user: {}\" .format(userid))"
      ],
      "execution_count": null,
      "outputs": []
    },
    {
      "cell_type": "code",
      "metadata": {
        "id": "eW4LvsSWPC66",
        "colab": {
          "base_uri": "https://localhost:8080/"
        },
        "outputId": "ed61c951-0d92-4ec6-c291-0e9d4139c090"
      },
      "source": [
        "userid = 2020_100100\n",
        "delete_user(2020_100100)"
      ],
      "execution_count": null,
      "outputs": [
        {
          "output_type": "stream",
          "name": "stdout",
          "text": [
            "Successfully deleted user: 2020100100\n"
          ]
        }
      ]
    },
    {
      "cell_type": "code",
      "metadata": {
        "id": "71xAHHx_Po1t"
      },
      "source": [
        "added1, added2 = 5, 6"
      ],
      "execution_count": null,
      "outputs": []
    },
    {
      "cell_type": "code",
      "metadata": {
        "id": "Xj1oymKiPufx"
      },
      "source": [
        "def add(added1, added2):\n",
        "  sum = added1 + added2\n",
        "  return sum"
      ],
      "execution_count": null,
      "outputs": []
    },
    {
      "cell_type": "code",
      "metadata": {
        "id": "jG6PR5RKP6bD",
        "colab": {
          "base_uri": "https://localhost:8080/"
        },
        "outputId": "224b578c-1b69-479a-ac73-7aacc8a7f124"
      },
      "source": [
        "add(5,4)"
      ],
      "execution_count": null,
      "outputs": [
        {
          "output_type": "execute_result",
          "data": {
            "text/plain": [
              "9"
            ]
          },
          "metadata": {},
          "execution_count": 88
        }
      ]
    }
  ]
}